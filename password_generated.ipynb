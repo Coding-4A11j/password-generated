{
  "nbformat": 4,
  "nbformat_minor": 0,
  "metadata": {
    "colab": {
      "provenance": []
    },
    "kernelspec": {
      "name": "python3",
      "display_name": "Python 3"
    },
    "language_info": {
      "name": "python"
    }
  },
  "cells": [
    {
      "cell_type": "code",
      "execution_count": 2,
      "metadata": {
        "colab": {
          "base_uri": "https://localhost:8080/"
        },
        "id": "BV6dt_F7oDBB",
        "outputId": "81da6488-c246-4c01-9bba-2a25b360ab6d"
      },
      "outputs": [
        {
          "output_type": "stream",
          "name": "stdout",
          "text": [
            "Welcome to the Password Generator!\n",
            "Enter the desired password length: 12\n",
            "Include uppercase letters? (y/n): y\n",
            "Include lowercase letters? (y/n): y\n",
            "Include numbers? (y/n): y\n",
            "Include special characters? (y/n): y\n",
            "Generated Password: :fr?DAR\\&)ep\n"
          ]
        }
      ],
      "source": [
        "import random\n",
        "import string\n",
        "\n",
        "def generate_password(length=12, use_uppercase=True, use_lowercase=True, use_numbers=True, use_special=True):\n",
        "    character_pool = ''\n",
        "\n",
        "    if use_uppercase:\n",
        "        character_pool += string.ascii_uppercase\n",
        "    if use_lowercase:\n",
        "        character_pool += string.ascii_lowercase\n",
        "    if use_numbers:\n",
        "        character_pool += string.digits\n",
        "    if use_special:\n",
        "        character_pool += string.punctuation\n",
        "\n",
        "    if not character_pool:\n",
        "        raise ValueError(\"At least one character set must be selected!\")\n",
        "\n",
        "    password = ''.join(random.choice(character_pool) for _ in range(length))\n",
        "    return password\n",
        "\n",
        "if __name__ == \"__main__\":\n",
        "    print(\"Welcome to the Password Generator!\")\n",
        "    length = int(input(\"Enter the desired password length: \"))\n",
        "    use_uppercase = input(\"Include uppercase letters? (y/n): \").strip().lower() == 'y'\n",
        "    use_lowercase = input(\"Include lowercase letters? (y/n): \").strip().lower() == 'y'\n",
        "    use_numbers = input(\"Include numbers? (y/n): \").strip().lower() == 'y'\n",
        "    use_special = input(\"Include special characters? (y/n): \").strip().lower() == 'y'\n",
        "\n",
        "    password = generate_password(length, use_uppercase, use_lowercase, use_numbers, use_special)\n",
        "    print(f\"Generated Password: {password}\")\n"
      ]
    }
  ]
}